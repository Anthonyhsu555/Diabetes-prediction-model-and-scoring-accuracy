{
 "cells": [
  {
   "cell_type": "code",
   "execution_count": 66,
   "metadata": {},
   "outputs": [
    {
     "data": {
      "text/html": [
       "<div>\n",
       "<style scoped>\n",
       "    .dataframe tbody tr th:only-of-type {\n",
       "        vertical-align: middle;\n",
       "    }\n",
       "\n",
       "    .dataframe tbody tr th {\n",
       "        vertical-align: top;\n",
       "    }\n",
       "\n",
       "    .dataframe thead th {\n",
       "        text-align: right;\n",
       "    }\n",
       "</style>\n",
       "<table border=\"1\" class=\"dataframe\">\n",
       "  <thead>\n",
       "    <tr style=\"text-align: right;\">\n",
       "      <th></th>\n",
       "      <th>Pregnancies</th>\n",
       "      <th>Glucose</th>\n",
       "      <th>BloodPressure</th>\n",
       "      <th>SkinThickness</th>\n",
       "      <th>Insulin</th>\n",
       "      <th>BMI</th>\n",
       "      <th>DiabetesPedigreeFunction</th>\n",
       "      <th>Age</th>\n",
       "      <th>Outcome</th>\n",
       "    </tr>\n",
       "  </thead>\n",
       "  <tbody>\n",
       "    <tr>\n",
       "      <th>0</th>\n",
       "      <td>6</td>\n",
       "      <td>148</td>\n",
       "      <td>72</td>\n",
       "      <td>35</td>\n",
       "      <td>0</td>\n",
       "      <td>33.6</td>\n",
       "      <td>0.627</td>\n",
       "      <td>50</td>\n",
       "      <td>1</td>\n",
       "    </tr>\n",
       "    <tr>\n",
       "      <th>1</th>\n",
       "      <td>1</td>\n",
       "      <td>85</td>\n",
       "      <td>66</td>\n",
       "      <td>29</td>\n",
       "      <td>0</td>\n",
       "      <td>26.6</td>\n",
       "      <td>0.351</td>\n",
       "      <td>31</td>\n",
       "      <td>0</td>\n",
       "    </tr>\n",
       "    <tr>\n",
       "      <th>2</th>\n",
       "      <td>8</td>\n",
       "      <td>183</td>\n",
       "      <td>64</td>\n",
       "      <td>0</td>\n",
       "      <td>0</td>\n",
       "      <td>23.3</td>\n",
       "      <td>0.672</td>\n",
       "      <td>32</td>\n",
       "      <td>1</td>\n",
       "    </tr>\n",
       "    <tr>\n",
       "      <th>3</th>\n",
       "      <td>1</td>\n",
       "      <td>89</td>\n",
       "      <td>66</td>\n",
       "      <td>23</td>\n",
       "      <td>94</td>\n",
       "      <td>28.1</td>\n",
       "      <td>0.167</td>\n",
       "      <td>21</td>\n",
       "      <td>0</td>\n",
       "    </tr>\n",
       "    <tr>\n",
       "      <th>4</th>\n",
       "      <td>0</td>\n",
       "      <td>137</td>\n",
       "      <td>40</td>\n",
       "      <td>35</td>\n",
       "      <td>168</td>\n",
       "      <td>43.1</td>\n",
       "      <td>2.288</td>\n",
       "      <td>33</td>\n",
       "      <td>1</td>\n",
       "    </tr>\n",
       "  </tbody>\n",
       "</table>\n",
       "</div>"
      ],
      "text/plain": [
       "   Pregnancies  Glucose  BloodPressure  SkinThickness  Insulin   BMI  \\\n",
       "0            6      148             72             35        0  33.6   \n",
       "1            1       85             66             29        0  26.6   \n",
       "2            8      183             64              0        0  23.3   \n",
       "3            1       89             66             23       94  28.1   \n",
       "4            0      137             40             35      168  43.1   \n",
       "\n",
       "   DiabetesPedigreeFunction  Age  Outcome  \n",
       "0                     0.627   50        1  \n",
       "1                     0.351   31        0  \n",
       "2                     0.672   32        1  \n",
       "3                     0.167   21        0  \n",
       "4                     2.288   33        1  "
      ]
     },
     "execution_count": 66,
     "metadata": {},
     "output_type": "execute_result"
    }
   ],
   "source": [
    "import pandas as pd\n",
    "import numpy as np\n",
    "df = pd.read_csv('diabetes.csv')\n",
    "df.head()"
   ]
  },
  {
   "cell_type": "code",
   "execution_count": 28,
   "metadata": {},
   "outputs": [
    {
     "data": {
      "text/plain": [
       "(768, 9)"
      ]
     },
     "execution_count": 28,
     "metadata": {},
     "output_type": "execute_result"
    }
   ],
   "source": [
    "df.shape"
   ]
  },
  {
   "cell_type": "code",
   "execution_count": 29,
   "metadata": {},
   "outputs": [
    {
     "data": {
      "text/plain": [
       "0    500\n",
       "1    268\n",
       "Name: Outcome, dtype: int64"
      ]
     },
     "execution_count": 29,
     "metadata": {},
     "output_type": "execute_result"
    }
   ],
   "source": [
    "df.Outcome.value_counts()\n",
    "#0 = doesn't have diabetes, 1 = has diabetes"
   ]
  },
  {
   "cell_type": "code",
   "execution_count": 81,
   "metadata": {},
   "outputs": [],
   "source": [
    "from sklearn.model_selection import train_test_split\n",
    "y = df.Outcome   #variable label\n",
    "x = df.loc[:, df.columns != 'Outcome']   #features, the x variables\n",
    "x_train, x_test, y_train, y_test = train_test_split(x,y, test_size = 0.25)  #75% in the train, 25% in the test\n"
   ]
  },
  {
   "cell_type": "code",
   "execution_count": 82,
   "metadata": {},
   "outputs": [],
   "source": [
    "from sklearn.linear_model import LogisticRegression\n",
    "logreg = LogisticRegression()  # model is called logreg, this creates the model\n",
    "\n",
    "#max iteration = number of trials your ML function is going to try and minimize cost function\n",
    "#fit_intercept = True, means B exist in the equation\n",
    "#fit_intercept = False, means forcing B bias to be 0, not going to have intercept in the equation, bias is not in equation\n",
    "#class weight = favor certain class more than another"
   ]
  },
  {
   "cell_type": "code",
   "execution_count": 83,
   "metadata": {},
   "outputs": [
    {
     "name": "stderr",
     "output_type": "stream",
     "text": [
      "/Users/anthonyhsu/anaconda3/lib/python3.7/site-packages/sklearn/linear_model/_logistic.py:940: ConvergenceWarning: lbfgs failed to converge (status=1):\n",
      "STOP: TOTAL NO. of ITERATIONS REACHED LIMIT.\n",
      "\n",
      "Increase the number of iterations (max_iter) or scale the data as shown in:\n",
      "    https://scikit-learn.org/stable/modules/preprocessing.html\n",
      "Please also refer to the documentation for alternative solver options:\n",
      "    https://scikit-learn.org/stable/modules/linear_model.html#logistic-regression\n",
      "  extra_warning_msg=_LOGISTIC_SOLVER_CONVERGENCE_MSG)\n"
     ]
    },
    {
     "data": {
      "text/plain": [
       "LogisticRegression(C=1.0, class_weight=None, dual=False, fit_intercept=True,\n",
       "                   intercept_scaling=1, l1_ratio=None, max_iter=100,\n",
       "                   multi_class='auto', n_jobs=None, penalty='l2',\n",
       "                   random_state=None, solver='lbfgs', tol=0.0001, verbose=0,\n",
       "                   warm_start=False)"
      ]
     },
     "execution_count": 83,
     "metadata": {},
     "output_type": "execute_result"
    }
   ],
   "source": [
    "#fit the model using training data\n",
    "\n",
    "logreg.fit(x_train, y_train)\n",
    "#fit_intercept = forces to find new weights without the intercept, if you don't want bias into the equation\n",
    "#class_weight = i care to make sure outcome = true is more accurate than outcome equal false, ex: care more for person who has diabetes vs one who does not, model puts more \n",
    "#emphasis for outcome = 1 over less accuracy for model predicting 0, for 1 class over another"
   ]
  },
  {
   "cell_type": "code",
   "execution_count": 84,
   "metadata": {},
   "outputs": [
    {
     "data": {
      "text/plain": [
       "0.7795138888888888"
      ]
     },
     "execution_count": 84,
     "metadata": {},
     "output_type": "execute_result"
    }
   ],
   "source": [
    "# find out how good model is\n",
    "logreg.score(x_train, y_train) #model.predict(x_train) then compare prediction to the real labels of the training, compare predictions to y_train, tell you how many of were right which is accuracy\n"
   ]
  },
  {
   "cell_type": "code",
   "execution_count": 85,
   "metadata": {},
   "outputs": [
    {
     "data": {
      "text/plain": [
       "0.796875"
      ]
     },
     "execution_count": 85,
     "metadata": {},
     "output_type": "execute_result"
    }
   ],
   "source": [
    "logreg.score(x_test, y_test)"
   ]
  },
  {
   "cell_type": "code",
   "execution_count": 35,
   "metadata": {},
   "outputs": [
    {
     "data": {
      "text/html": [
       "<div>\n",
       "<style scoped>\n",
       "    .dataframe tbody tr th:only-of-type {\n",
       "        vertical-align: middle;\n",
       "    }\n",
       "\n",
       "    .dataframe tbody tr th {\n",
       "        vertical-align: top;\n",
       "    }\n",
       "\n",
       "    .dataframe thead th {\n",
       "        text-align: right;\n",
       "    }\n",
       "</style>\n",
       "<table border=\"1\" class=\"dataframe\">\n",
       "  <thead>\n",
       "    <tr style=\"text-align: right;\">\n",
       "      <th></th>\n",
       "      <th>Pregnancies</th>\n",
       "      <th>Glucose</th>\n",
       "      <th>BloodPressure</th>\n",
       "      <th>SkinThickness</th>\n",
       "      <th>Insulin</th>\n",
       "      <th>BMI</th>\n",
       "      <th>DiabetesPedigreeFunction</th>\n",
       "      <th>Age</th>\n",
       "    </tr>\n",
       "  </thead>\n",
       "  <tbody>\n",
       "    <tr>\n",
       "      <th>220</th>\n",
       "      <td>0</td>\n",
       "      <td>177</td>\n",
       "      <td>60</td>\n",
       "      <td>29</td>\n",
       "      <td>478</td>\n",
       "      <td>34.6</td>\n",
       "      <td>1.072</td>\n",
       "      <td>21</td>\n",
       "    </tr>\n",
       "    <tr>\n",
       "      <th>52</th>\n",
       "      <td>5</td>\n",
       "      <td>88</td>\n",
       "      <td>66</td>\n",
       "      <td>21</td>\n",
       "      <td>23</td>\n",
       "      <td>24.4</td>\n",
       "      <td>0.342</td>\n",
       "      <td>30</td>\n",
       "    </tr>\n",
       "    <tr>\n",
       "      <th>108</th>\n",
       "      <td>3</td>\n",
       "      <td>83</td>\n",
       "      <td>58</td>\n",
       "      <td>31</td>\n",
       "      <td>18</td>\n",
       "      <td>34.3</td>\n",
       "      <td>0.336</td>\n",
       "      <td>25</td>\n",
       "    </tr>\n",
       "    <tr>\n",
       "      <th>487</th>\n",
       "      <td>0</td>\n",
       "      <td>173</td>\n",
       "      <td>78</td>\n",
       "      <td>32</td>\n",
       "      <td>265</td>\n",
       "      <td>46.5</td>\n",
       "      <td>1.159</td>\n",
       "      <td>58</td>\n",
       "    </tr>\n",
       "    <tr>\n",
       "      <th>661</th>\n",
       "      <td>1</td>\n",
       "      <td>199</td>\n",
       "      <td>76</td>\n",
       "      <td>43</td>\n",
       "      <td>0</td>\n",
       "      <td>42.9</td>\n",
       "      <td>1.394</td>\n",
       "      <td>22</td>\n",
       "    </tr>\n",
       "    <tr>\n",
       "      <th>...</th>\n",
       "      <td>...</td>\n",
       "      <td>...</td>\n",
       "      <td>...</td>\n",
       "      <td>...</td>\n",
       "      <td>...</td>\n",
       "      <td>...</td>\n",
       "      <td>...</td>\n",
       "      <td>...</td>\n",
       "    </tr>\n",
       "    <tr>\n",
       "      <th>183</th>\n",
       "      <td>5</td>\n",
       "      <td>73</td>\n",
       "      <td>60</td>\n",
       "      <td>0</td>\n",
       "      <td>0</td>\n",
       "      <td>26.8</td>\n",
       "      <td>0.268</td>\n",
       "      <td>27</td>\n",
       "    </tr>\n",
       "    <tr>\n",
       "      <th>464</th>\n",
       "      <td>10</td>\n",
       "      <td>115</td>\n",
       "      <td>98</td>\n",
       "      <td>0</td>\n",
       "      <td>0</td>\n",
       "      <td>24.0</td>\n",
       "      <td>1.022</td>\n",
       "      <td>34</td>\n",
       "    </tr>\n",
       "    <tr>\n",
       "      <th>34</th>\n",
       "      <td>10</td>\n",
       "      <td>122</td>\n",
       "      <td>78</td>\n",
       "      <td>31</td>\n",
       "      <td>0</td>\n",
       "      <td>27.6</td>\n",
       "      <td>0.512</td>\n",
       "      <td>45</td>\n",
       "    </tr>\n",
       "    <tr>\n",
       "      <th>580</th>\n",
       "      <td>0</td>\n",
       "      <td>151</td>\n",
       "      <td>90</td>\n",
       "      <td>46</td>\n",
       "      <td>0</td>\n",
       "      <td>42.1</td>\n",
       "      <td>0.371</td>\n",
       "      <td>21</td>\n",
       "    </tr>\n",
       "    <tr>\n",
       "      <th>361</th>\n",
       "      <td>5</td>\n",
       "      <td>158</td>\n",
       "      <td>70</td>\n",
       "      <td>0</td>\n",
       "      <td>0</td>\n",
       "      <td>29.8</td>\n",
       "      <td>0.207</td>\n",
       "      <td>63</td>\n",
       "    </tr>\n",
       "  </tbody>\n",
       "</table>\n",
       "<p>192 rows × 8 columns</p>\n",
       "</div>"
      ],
      "text/plain": [
       "     Pregnancies  Glucose  BloodPressure  SkinThickness  Insulin   BMI  \\\n",
       "220            0      177             60             29      478  34.6   \n",
       "52             5       88             66             21       23  24.4   \n",
       "108            3       83             58             31       18  34.3   \n",
       "487            0      173             78             32      265  46.5   \n",
       "661            1      199             76             43        0  42.9   \n",
       "..           ...      ...            ...            ...      ...   ...   \n",
       "183            5       73             60              0        0  26.8   \n",
       "464           10      115             98              0        0  24.0   \n",
       "34            10      122             78             31        0  27.6   \n",
       "580            0      151             90             46        0  42.1   \n",
       "361            5      158             70              0        0  29.8   \n",
       "\n",
       "     DiabetesPedigreeFunction  Age  \n",
       "220                     1.072   21  \n",
       "52                      0.342   30  \n",
       "108                     0.336   25  \n",
       "487                     1.159   58  \n",
       "661                     1.394   22  \n",
       "..                        ...  ...  \n",
       "183                     0.268   27  \n",
       "464                     1.022   34  \n",
       "34                      0.512   45  \n",
       "580                     0.371   21  \n",
       "361                     0.207   63  \n",
       "\n",
       "[192 rows x 8 columns]"
      ]
     },
     "execution_count": 35,
     "metadata": {},
     "output_type": "execute_result"
    }
   ],
   "source": [
    "x_test"
   ]
  },
  {
   "cell_type": "code",
   "execution_count": 36,
   "metadata": {},
   "outputs": [
    {
     "data": {
      "text/plain": [
       "array([1, 0, 0, 1, 1, 0, 0, 0, 0, 1, 0, 0, 0, 0, 0, 1, 0, 0, 0, 0, 0, 0,\n",
       "       0, 0, 1, 0, 1, 1, 0, 0, 0, 1, 0, 1, 0, 0, 1, 0, 0, 0, 0, 0, 0, 0,\n",
       "       1, 1, 0, 0, 0, 0, 1, 0, 0, 0, 0, 0, 0, 1, 0, 0, 0, 1, 0, 0, 1, 0,\n",
       "       0, 0, 1, 0, 0, 0, 1, 0, 0, 0, 0, 0, 0, 0, 0, 0, 0, 0, 1, 0, 0, 0,\n",
       "       0, 0, 0, 0, 0, 1, 0, 0, 1, 0, 0, 0, 0, 0, 1, 0, 1, 0, 0, 0, 0, 0,\n",
       "       1, 0, 0, 0, 0, 1, 0, 0, 1, 0, 0, 0, 1, 0, 1, 0, 0, 0, 0, 0, 0, 0,\n",
       "       0, 1, 0, 0, 0, 0, 0, 0, 0, 0, 0, 1, 1, 0, 0, 0, 0, 1, 0, 1, 0, 0,\n",
       "       0, 0, 0, 0, 1, 1, 0, 0, 0, 0, 0, 0, 1, 1, 0, 0, 1, 1, 0, 0, 0, 0,\n",
       "       0, 0, 0, 0, 1, 0, 0, 1, 1, 1, 1, 0, 0, 0, 1, 1])"
      ]
     },
     "execution_count": 36,
     "metadata": {},
     "output_type": "execute_result"
    }
   ],
   "source": [
    "#how do i predict a piece of data? give it x_test, should give a prediction for each row\n",
    "\n",
    "logreg.predict(x_test)\n",
    "pred = logreg.predict(x_test)\n",
    "pred\n"
   ]
  },
  {
   "cell_type": "code",
   "execution_count": 37,
   "metadata": {},
   "outputs": [
    {
     "data": {
      "text/plain": [
       "array([[0.2803714 , 0.7196286 ],\n",
       "       [0.948617  , 0.051383  ],\n",
       "       [0.91599079, 0.08400921],\n",
       "       [0.03513273, 0.96486727],\n",
       "       [0.02666566, 0.97333434],\n",
       "       [0.87204956, 0.12795044],\n",
       "       [0.77196421, 0.22803579],\n",
       "       [0.85213715, 0.14786285],\n",
       "       [0.95256241, 0.04743759],\n",
       "       [0.44660311, 0.55339689],\n",
       "       [0.86379534, 0.13620466],\n",
       "       [0.9198428 , 0.0801572 ],\n",
       "       [0.92228972, 0.07771028],\n",
       "       [0.72135127, 0.27864873],\n",
       "       [0.69093465, 0.30906535],\n",
       "       [0.25387025, 0.74612975],\n",
       "       [0.75061468, 0.24938532],\n",
       "       [0.92207174, 0.07792826],\n",
       "       [0.86032923, 0.13967077],\n",
       "       [0.98210902, 0.01789098],\n",
       "       [0.92670769, 0.07329231],\n",
       "       [0.62156039, 0.37843961],\n",
       "       [0.92573287, 0.07426713],\n",
       "       [0.52740271, 0.47259729],\n",
       "       [0.27852816, 0.72147184],\n",
       "       [0.91557753, 0.08442247],\n",
       "       [0.33275849, 0.66724151],\n",
       "       [0.08332847, 0.91667153],\n",
       "       [0.8709982 , 0.1290018 ],\n",
       "       [0.84863156, 0.15136844],\n",
       "       [0.83128039, 0.16871961],\n",
       "       [0.42624778, 0.57375222],\n",
       "       [0.92679887, 0.07320113],\n",
       "       [0.1314118 , 0.8685882 ],\n",
       "       [0.64958438, 0.35041562],\n",
       "       [0.9273166 , 0.0726834 ],\n",
       "       [0.44918074, 0.55081926],\n",
       "       [0.96690408, 0.03309592],\n",
       "       [0.77744472, 0.22255528],\n",
       "       [0.98910296, 0.01089704],\n",
       "       [0.95351351, 0.04648649],\n",
       "       [0.95416951, 0.04583049],\n",
       "       [0.80091481, 0.19908519],\n",
       "       [0.88647843, 0.11352157],\n",
       "       [0.11261634, 0.88738366],\n",
       "       [0.00368139, 0.99631861],\n",
       "       [0.52000091, 0.47999909],\n",
       "       [0.73952024, 0.26047976],\n",
       "       [0.86366911, 0.13633089],\n",
       "       [0.63312338, 0.36687662],\n",
       "       [0.49991993, 0.50008007],\n",
       "       [0.80117516, 0.19882484],\n",
       "       [0.83862109, 0.16137891],\n",
       "       [0.84853285, 0.15146715],\n",
       "       [0.66005558, 0.33994442],\n",
       "       [0.50622427, 0.49377573],\n",
       "       [0.88110467, 0.11889533],\n",
       "       [0.13039873, 0.86960127],\n",
       "       [0.80536609, 0.19463391],\n",
       "       [0.99330837, 0.00669163],\n",
       "       [0.57410693, 0.42589307],\n",
       "       [0.27064734, 0.72935266],\n",
       "       [0.90282049, 0.09717951],\n",
       "       [0.52045313, 0.47954687],\n",
       "       [0.45623558, 0.54376442],\n",
       "       [0.86912873, 0.13087127],\n",
       "       [0.850968  , 0.149032  ],\n",
       "       [0.96623841, 0.03376159],\n",
       "       [0.10423901, 0.89576099],\n",
       "       [0.64107934, 0.35892066],\n",
       "       [0.96583905, 0.03416095],\n",
       "       [0.74111415, 0.25888585],\n",
       "       [0.12252368, 0.87747632],\n",
       "       [0.89164568, 0.10835432],\n",
       "       [0.68084901, 0.31915099],\n",
       "       [0.71971372, 0.28028628],\n",
       "       [0.91255281, 0.08744719],\n",
       "       [0.95767974, 0.04232026],\n",
       "       [0.90699016, 0.09300984],\n",
       "       [0.97802646, 0.02197354],\n",
       "       [0.74494212, 0.25505788],\n",
       "       [0.86762712, 0.13237288],\n",
       "       [0.72978804, 0.27021196],\n",
       "       [0.78816926, 0.21183074],\n",
       "       [0.16262084, 0.83737916],\n",
       "       [0.90082697, 0.09917303],\n",
       "       [0.69441715, 0.30558285],\n",
       "       [0.96764677, 0.03235323],\n",
       "       [0.81633108, 0.18366892],\n",
       "       [0.70468435, 0.29531565],\n",
       "       [0.56353563, 0.43646437],\n",
       "       [0.77720619, 0.22279381],\n",
       "       [0.98038433, 0.01961567],\n",
       "       [0.1637945 , 0.8362055 ],\n",
       "       [0.62755568, 0.37244432],\n",
       "       [0.65816946, 0.34183054],\n",
       "       [0.34027361, 0.65972639],\n",
       "       [0.91661654, 0.08338346],\n",
       "       [0.61535461, 0.38464539],\n",
       "       [0.91105097, 0.08894903],\n",
       "       [0.67093599, 0.32906401],\n",
       "       [0.50771589, 0.49228411],\n",
       "       [0.26706343, 0.73293657],\n",
       "       [0.91948806, 0.08051194],\n",
       "       [0.43423367, 0.56576633],\n",
       "       [0.96566035, 0.03433965],\n",
       "       [0.77900728, 0.22099272],\n",
       "       [0.69304153, 0.30695847],\n",
       "       [0.91499932, 0.08500068],\n",
       "       [0.57434713, 0.42565287],\n",
       "       [0.23911628, 0.76088372],\n",
       "       [0.95101504, 0.04898496],\n",
       "       [0.90592478, 0.09407522],\n",
       "       [0.73876922, 0.26123078],\n",
       "       [0.71757675, 0.28242325],\n",
       "       [0.22147884, 0.77852116],\n",
       "       [0.9674336 , 0.0325664 ],\n",
       "       [0.92569293, 0.07430707],\n",
       "       [0.39393019, 0.60606981],\n",
       "       [0.76983705, 0.23016295],\n",
       "       [0.82332623, 0.17667377],\n",
       "       [0.86595024, 0.13404976],\n",
       "       [0.37439895, 0.62560105],\n",
       "       [0.95104961, 0.04895039],\n",
       "       [0.30045789, 0.69954211],\n",
       "       [0.59465229, 0.40534771],\n",
       "       [0.93999762, 0.06000238],\n",
       "       [0.65384762, 0.34615238],\n",
       "       [0.84533016, 0.15466984],\n",
       "       [0.95524834, 0.04475166],\n",
       "       [0.83695713, 0.16304287],\n",
       "       [0.83908221, 0.16091779],\n",
       "       [0.83539836, 0.16460164],\n",
       "       [0.02803428, 0.97196572],\n",
       "       [0.86606599, 0.13393401],\n",
       "       [0.88934855, 0.11065145],\n",
       "       [0.77811322, 0.22188678],\n",
       "       [0.88165992, 0.11834008],\n",
       "       [0.52898067, 0.47101933],\n",
       "       [0.93819469, 0.06180531],\n",
       "       [0.85840804, 0.14159196],\n",
       "       [0.61633618, 0.38366382],\n",
       "       [0.72877766, 0.27122234],\n",
       "       [0.46796893, 0.53203107],\n",
       "       [0.31370942, 0.68629058],\n",
       "       [0.77217792, 0.22782208],\n",
       "       [0.94608623, 0.05391377],\n",
       "       [0.69215616, 0.30784384],\n",
       "       [0.92367171, 0.07632829],\n",
       "       [0.34675754, 0.65324246],\n",
       "       [0.86630648, 0.13369352],\n",
       "       [0.12269899, 0.87730101],\n",
       "       [0.70522634, 0.29477366],\n",
       "       [0.69494915, 0.30505085],\n",
       "       [0.53588878, 0.46411122],\n",
       "       [0.94645671, 0.05354329],\n",
       "       [0.58908596, 0.41091404],\n",
       "       [0.89269779, 0.10730221],\n",
       "       [0.35930928, 0.64069072],\n",
       "       [0.21242874, 0.78757126],\n",
       "       [0.96498199, 0.03501801],\n",
       "       [0.98999893, 0.01000107],\n",
       "       [0.6848212 , 0.3151788 ],\n",
       "       [0.93714728, 0.06285272],\n",
       "       [0.77952064, 0.22047936],\n",
       "       [0.6271078 , 0.3728922 ],\n",
       "       [0.17164691, 0.82835309],\n",
       "       [0.15175158, 0.84824842],\n",
       "       [0.51241746, 0.48758254],\n",
       "       [0.7827238 , 0.2172762 ],\n",
       "       [0.12924004, 0.87075996],\n",
       "       [0.21878265, 0.78121735],\n",
       "       [0.66004053, 0.33995947],\n",
       "       [0.8537405 , 0.1462595 ],\n",
       "       [0.8850009 , 0.1149991 ],\n",
       "       [0.95346861, 0.04653139],\n",
       "       [0.89190565, 0.10809435],\n",
       "       [0.69165709, 0.30834291],\n",
       "       [0.91112055, 0.08887945],\n",
       "       [0.92433089, 0.07566911],\n",
       "       [0.22814747, 0.77185253],\n",
       "       [0.95524149, 0.04475851],\n",
       "       [0.95992034, 0.04007966],\n",
       "       [0.29734684, 0.70265316],\n",
       "       [0.29965218, 0.70034782],\n",
       "       [0.09900196, 0.90099804],\n",
       "       [0.47884779, 0.52115221],\n",
       "       [0.96643462, 0.03356538],\n",
       "       [0.7427388 , 0.2572612 ],\n",
       "       [0.6124948 , 0.3875052 ],\n",
       "       [0.43423147, 0.56576853],\n",
       "       [0.25477369, 0.74522631]])"
      ]
     },
     "execution_count": 37,
     "metadata": {},
     "output_type": "execute_result"
    }
   ],
   "source": [
    "prob = logreg.predict_proba(x_test)\n",
    "prob\n",
    "#1st part probability of being 0, 2nd part probability of being 1, add both columns up will always be 1\n",
    "#for people with scores of .50 and .50, those predictions not that confident so ask them to go to a doctor"
   ]
  },
  {
   "cell_type": "code",
   "execution_count": 38,
   "metadata": {},
   "outputs": [
    {
     "data": {
      "text/html": [
       "<div>\n",
       "<style scoped>\n",
       "    .dataframe tbody tr th:only-of-type {\n",
       "        vertical-align: middle;\n",
       "    }\n",
       "\n",
       "    .dataframe tbody tr th {\n",
       "        vertical-align: top;\n",
       "    }\n",
       "\n",
       "    .dataframe thead th {\n",
       "        text-align: right;\n",
       "    }\n",
       "</style>\n",
       "<table border=\"1\" class=\"dataframe\">\n",
       "  <thead>\n",
       "    <tr style=\"text-align: right;\">\n",
       "      <th></th>\n",
       "      <th>0</th>\n",
       "      <th>1</th>\n",
       "      <th>predict</th>\n",
       "      <th>actual_label</th>\n",
       "    </tr>\n",
       "  </thead>\n",
       "  <tbody>\n",
       "    <tr>\n",
       "      <th>0</th>\n",
       "      <td>0.280371</td>\n",
       "      <td>0.719629</td>\n",
       "      <td>1</td>\n",
       "      <td>1</td>\n",
       "    </tr>\n",
       "    <tr>\n",
       "      <th>1</th>\n",
       "      <td>0.948617</td>\n",
       "      <td>0.051383</td>\n",
       "      <td>0</td>\n",
       "      <td>0</td>\n",
       "    </tr>\n",
       "    <tr>\n",
       "      <th>2</th>\n",
       "      <td>0.915991</td>\n",
       "      <td>0.084009</td>\n",
       "      <td>0</td>\n",
       "      <td>0</td>\n",
       "    </tr>\n",
       "    <tr>\n",
       "      <th>3</th>\n",
       "      <td>0.035133</td>\n",
       "      <td>0.964867</td>\n",
       "      <td>1</td>\n",
       "      <td>0</td>\n",
       "    </tr>\n",
       "    <tr>\n",
       "      <th>4</th>\n",
       "      <td>0.026666</td>\n",
       "      <td>0.973334</td>\n",
       "      <td>1</td>\n",
       "      <td>1</td>\n",
       "    </tr>\n",
       "    <tr>\n",
       "      <th>...</th>\n",
       "      <td>...</td>\n",
       "      <td>...</td>\n",
       "      <td>...</td>\n",
       "      <td>...</td>\n",
       "    </tr>\n",
       "    <tr>\n",
       "      <th>187</th>\n",
       "      <td>0.966435</td>\n",
       "      <td>0.033565</td>\n",
       "      <td>0</td>\n",
       "      <td>0</td>\n",
       "    </tr>\n",
       "    <tr>\n",
       "      <th>188</th>\n",
       "      <td>0.742739</td>\n",
       "      <td>0.257261</td>\n",
       "      <td>0</td>\n",
       "      <td>0</td>\n",
       "    </tr>\n",
       "    <tr>\n",
       "      <th>189</th>\n",
       "      <td>0.612495</td>\n",
       "      <td>0.387505</td>\n",
       "      <td>0</td>\n",
       "      <td>0</td>\n",
       "    </tr>\n",
       "    <tr>\n",
       "      <th>190</th>\n",
       "      <td>0.434231</td>\n",
       "      <td>0.565769</td>\n",
       "      <td>1</td>\n",
       "      <td>1</td>\n",
       "    </tr>\n",
       "    <tr>\n",
       "      <th>191</th>\n",
       "      <td>0.254774</td>\n",
       "      <td>0.745226</td>\n",
       "      <td>1</td>\n",
       "      <td>0</td>\n",
       "    </tr>\n",
       "  </tbody>\n",
       "</table>\n",
       "<p>192 rows × 4 columns</p>\n",
       "</div>"
      ],
      "text/plain": [
       "            0         1  predict  actual_label\n",
       "0    0.280371  0.719629        1             1\n",
       "1    0.948617  0.051383        0             0\n",
       "2    0.915991  0.084009        0             0\n",
       "3    0.035133  0.964867        1             0\n",
       "4    0.026666  0.973334        1             1\n",
       "..        ...       ...      ...           ...\n",
       "187  0.966435  0.033565        0             0\n",
       "188  0.742739  0.257261        0             0\n",
       "189  0.612495  0.387505        0             0\n",
       "190  0.434231  0.565769        1             1\n",
       "191  0.254774  0.745226        1             0\n",
       "\n",
       "[192 rows x 4 columns]"
      ]
     },
     "execution_count": 38,
     "metadata": {},
     "output_type": "execute_result"
    }
   ],
   "source": [
    "results = pd.DataFrame(prob)\n",
    "results['predict'] = pred\n",
    "results['actual_label'] = y_test.tolist()\n",
    "results\n",
    "#shows probabilities, predictions, and actual answers next to each other"
   ]
  },
  {
   "cell_type": "code",
   "execution_count": 39,
   "metadata": {},
   "outputs": [
    {
     "data": {
      "text/plain": [
       "220    1\n",
       "52     0\n",
       "108    0\n",
       "487    0\n",
       "661    1\n",
       "      ..\n",
       "183    0\n",
       "464    0\n",
       "34     0\n",
       "580    1\n",
       "361    0\n",
       "Name: Outcome, Length: 192, dtype: int64"
      ]
     },
     "execution_count": 39,
     "metadata": {},
     "output_type": "execute_result"
    }
   ],
   "source": [
    "y_test"
   ]
  },
  {
   "cell_type": "code",
   "execution_count": 40,
   "metadata": {},
   "outputs": [
    {
     "data": {
      "text/html": [
       "<div>\n",
       "<style scoped>\n",
       "    .dataframe tbody tr th:only-of-type {\n",
       "        vertical-align: middle;\n",
       "    }\n",
       "\n",
       "    .dataframe tbody tr th {\n",
       "        vertical-align: top;\n",
       "    }\n",
       "\n",
       "    .dataframe thead th {\n",
       "        text-align: right;\n",
       "    }\n",
       "</style>\n",
       "<table border=\"1\" class=\"dataframe\">\n",
       "  <thead>\n",
       "    <tr style=\"text-align: right;\">\n",
       "      <th></th>\n",
       "      <th>0</th>\n",
       "      <th>1</th>\n",
       "      <th>predict</th>\n",
       "      <th>actual_label</th>\n",
       "    </tr>\n",
       "  </thead>\n",
       "  <tbody>\n",
       "    <tr>\n",
       "      <th>3</th>\n",
       "      <td>0.035133</td>\n",
       "      <td>0.964867</td>\n",
       "      <td>1</td>\n",
       "      <td>0</td>\n",
       "    </tr>\n",
       "    <tr>\n",
       "      <th>6</th>\n",
       "      <td>0.771964</td>\n",
       "      <td>0.228036</td>\n",
       "      <td>0</td>\n",
       "      <td>1</td>\n",
       "    </tr>\n",
       "    <tr>\n",
       "      <th>7</th>\n",
       "      <td>0.852137</td>\n",
       "      <td>0.147863</td>\n",
       "      <td>0</td>\n",
       "      <td>1</td>\n",
       "    </tr>\n",
       "    <tr>\n",
       "      <th>21</th>\n",
       "      <td>0.621560</td>\n",
       "      <td>0.378440</td>\n",
       "      <td>0</td>\n",
       "      <td>1</td>\n",
       "    </tr>\n",
       "    <tr>\n",
       "      <th>27</th>\n",
       "      <td>0.083328</td>\n",
       "      <td>0.916672</td>\n",
       "      <td>1</td>\n",
       "      <td>0</td>\n",
       "    </tr>\n",
       "    <tr>\n",
       "      <th>28</th>\n",
       "      <td>0.870998</td>\n",
       "      <td>0.129002</td>\n",
       "      <td>0</td>\n",
       "      <td>1</td>\n",
       "    </tr>\n",
       "    <tr>\n",
       "      <th>29</th>\n",
       "      <td>0.848632</td>\n",
       "      <td>0.151368</td>\n",
       "      <td>0</td>\n",
       "      <td>1</td>\n",
       "    </tr>\n",
       "    <tr>\n",
       "      <th>36</th>\n",
       "      <td>0.449181</td>\n",
       "      <td>0.550819</td>\n",
       "      <td>1</td>\n",
       "      <td>0</td>\n",
       "    </tr>\n",
       "    <tr>\n",
       "      <th>42</th>\n",
       "      <td>0.800915</td>\n",
       "      <td>0.199085</td>\n",
       "      <td>0</td>\n",
       "      <td>1</td>\n",
       "    </tr>\n",
       "    <tr>\n",
       "      <th>49</th>\n",
       "      <td>0.633123</td>\n",
       "      <td>0.366877</td>\n",
       "      <td>0</td>\n",
       "      <td>1</td>\n",
       "    </tr>\n",
       "    <tr>\n",
       "      <th>50</th>\n",
       "      <td>0.499920</td>\n",
       "      <td>0.500080</td>\n",
       "      <td>1</td>\n",
       "      <td>0</td>\n",
       "    </tr>\n",
       "    <tr>\n",
       "      <th>52</th>\n",
       "      <td>0.838621</td>\n",
       "      <td>0.161379</td>\n",
       "      <td>0</td>\n",
       "      <td>1</td>\n",
       "    </tr>\n",
       "    <tr>\n",
       "      <th>54</th>\n",
       "      <td>0.660056</td>\n",
       "      <td>0.339944</td>\n",
       "      <td>0</td>\n",
       "      <td>1</td>\n",
       "    </tr>\n",
       "    <tr>\n",
       "      <th>71</th>\n",
       "      <td>0.741114</td>\n",
       "      <td>0.258886</td>\n",
       "      <td>0</td>\n",
       "      <td>1</td>\n",
       "    </tr>\n",
       "    <tr>\n",
       "      <th>72</th>\n",
       "      <td>0.122524</td>\n",
       "      <td>0.877476</td>\n",
       "      <td>1</td>\n",
       "      <td>0</td>\n",
       "    </tr>\n",
       "    <tr>\n",
       "      <th>75</th>\n",
       "      <td>0.719714</td>\n",
       "      <td>0.280286</td>\n",
       "      <td>0</td>\n",
       "      <td>1</td>\n",
       "    </tr>\n",
       "    <tr>\n",
       "      <th>77</th>\n",
       "      <td>0.957680</td>\n",
       "      <td>0.042320</td>\n",
       "      <td>0</td>\n",
       "      <td>1</td>\n",
       "    </tr>\n",
       "    <tr>\n",
       "      <th>81</th>\n",
       "      <td>0.867627</td>\n",
       "      <td>0.132373</td>\n",
       "      <td>0</td>\n",
       "      <td>1</td>\n",
       "    </tr>\n",
       "    <tr>\n",
       "      <th>82</th>\n",
       "      <td>0.729788</td>\n",
       "      <td>0.270212</td>\n",
       "      <td>0</td>\n",
       "      <td>1</td>\n",
       "    </tr>\n",
       "    <tr>\n",
       "      <th>89</th>\n",
       "      <td>0.704684</td>\n",
       "      <td>0.295316</td>\n",
       "      <td>0</td>\n",
       "      <td>1</td>\n",
       "    </tr>\n",
       "    <tr>\n",
       "      <th>94</th>\n",
       "      <td>0.627556</td>\n",
       "      <td>0.372444</td>\n",
       "      <td>0</td>\n",
       "      <td>1</td>\n",
       "    </tr>\n",
       "    <tr>\n",
       "      <th>95</th>\n",
       "      <td>0.658169</td>\n",
       "      <td>0.341831</td>\n",
       "      <td>0</td>\n",
       "      <td>1</td>\n",
       "    </tr>\n",
       "    <tr>\n",
       "      <th>99</th>\n",
       "      <td>0.911051</td>\n",
       "      <td>0.088949</td>\n",
       "      <td>0</td>\n",
       "      <td>1</td>\n",
       "    </tr>\n",
       "    <tr>\n",
       "      <th>101</th>\n",
       "      <td>0.507716</td>\n",
       "      <td>0.492284</td>\n",
       "      <td>0</td>\n",
       "      <td>1</td>\n",
       "    </tr>\n",
       "    <tr>\n",
       "      <th>102</th>\n",
       "      <td>0.267063</td>\n",
       "      <td>0.732937</td>\n",
       "      <td>1</td>\n",
       "      <td>0</td>\n",
       "    </tr>\n",
       "    <tr>\n",
       "      <th>111</th>\n",
       "      <td>0.951015</td>\n",
       "      <td>0.048985</td>\n",
       "      <td>0</td>\n",
       "      <td>1</td>\n",
       "    </tr>\n",
       "    <tr>\n",
       "      <th>113</th>\n",
       "      <td>0.738769</td>\n",
       "      <td>0.261231</td>\n",
       "      <td>0</td>\n",
       "      <td>1</td>\n",
       "    </tr>\n",
       "    <tr>\n",
       "      <th>114</th>\n",
       "      <td>0.717577</td>\n",
       "      <td>0.282423</td>\n",
       "      <td>0</td>\n",
       "      <td>1</td>\n",
       "    </tr>\n",
       "    <tr>\n",
       "      <th>118</th>\n",
       "      <td>0.393930</td>\n",
       "      <td>0.606070</td>\n",
       "      <td>1</td>\n",
       "      <td>0</td>\n",
       "    </tr>\n",
       "    <tr>\n",
       "      <th>125</th>\n",
       "      <td>0.594652</td>\n",
       "      <td>0.405348</td>\n",
       "      <td>0</td>\n",
       "      <td>1</td>\n",
       "    </tr>\n",
       "    <tr>\n",
       "      <th>142</th>\n",
       "      <td>0.728778</td>\n",
       "      <td>0.271222</td>\n",
       "      <td>0</td>\n",
       "      <td>1</td>\n",
       "    </tr>\n",
       "    <tr>\n",
       "      <th>147</th>\n",
       "      <td>0.692156</td>\n",
       "      <td>0.307844</td>\n",
       "      <td>0</td>\n",
       "      <td>1</td>\n",
       "    </tr>\n",
       "    <tr>\n",
       "      <th>150</th>\n",
       "      <td>0.866306</td>\n",
       "      <td>0.133694</td>\n",
       "      <td>0</td>\n",
       "      <td>1</td>\n",
       "    </tr>\n",
       "    <tr>\n",
       "      <th>152</th>\n",
       "      <td>0.705226</td>\n",
       "      <td>0.294774</td>\n",
       "      <td>0</td>\n",
       "      <td>1</td>\n",
       "    </tr>\n",
       "    <tr>\n",
       "      <th>153</th>\n",
       "      <td>0.694949</td>\n",
       "      <td>0.305051</td>\n",
       "      <td>0</td>\n",
       "      <td>1</td>\n",
       "    </tr>\n",
       "    <tr>\n",
       "      <th>158</th>\n",
       "      <td>0.359309</td>\n",
       "      <td>0.640691</td>\n",
       "      <td>1</td>\n",
       "      <td>0</td>\n",
       "    </tr>\n",
       "    <tr>\n",
       "      <th>159</th>\n",
       "      <td>0.212429</td>\n",
       "      <td>0.787571</td>\n",
       "      <td>1</td>\n",
       "      <td>0</td>\n",
       "    </tr>\n",
       "    <tr>\n",
       "      <th>161</th>\n",
       "      <td>0.989999</td>\n",
       "      <td>0.010001</td>\n",
       "      <td>0</td>\n",
       "      <td>1</td>\n",
       "    </tr>\n",
       "    <tr>\n",
       "      <th>164</th>\n",
       "      <td>0.779521</td>\n",
       "      <td>0.220479</td>\n",
       "      <td>0</td>\n",
       "      <td>1</td>\n",
       "    </tr>\n",
       "    <tr>\n",
       "      <th>168</th>\n",
       "      <td>0.512417</td>\n",
       "      <td>0.487583</td>\n",
       "      <td>0</td>\n",
       "      <td>1</td>\n",
       "    </tr>\n",
       "    <tr>\n",
       "      <th>172</th>\n",
       "      <td>0.660041</td>\n",
       "      <td>0.339959</td>\n",
       "      <td>0</td>\n",
       "      <td>1</td>\n",
       "    </tr>\n",
       "    <tr>\n",
       "      <th>173</th>\n",
       "      <td>0.853740</td>\n",
       "      <td>0.146260</td>\n",
       "      <td>0</td>\n",
       "      <td>1</td>\n",
       "    </tr>\n",
       "    <tr>\n",
       "      <th>183</th>\n",
       "      <td>0.297347</td>\n",
       "      <td>0.702653</td>\n",
       "      <td>1</td>\n",
       "      <td>0</td>\n",
       "    </tr>\n",
       "    <tr>\n",
       "      <th>184</th>\n",
       "      <td>0.299652</td>\n",
       "      <td>0.700348</td>\n",
       "      <td>1</td>\n",
       "      <td>0</td>\n",
       "    </tr>\n",
       "    <tr>\n",
       "      <th>191</th>\n",
       "      <td>0.254774</td>\n",
       "      <td>0.745226</td>\n",
       "      <td>1</td>\n",
       "      <td>0</td>\n",
       "    </tr>\n",
       "  </tbody>\n",
       "</table>\n",
       "</div>"
      ],
      "text/plain": [
       "            0         1  predict  actual_label\n",
       "3    0.035133  0.964867        1             0\n",
       "6    0.771964  0.228036        0             1\n",
       "7    0.852137  0.147863        0             1\n",
       "21   0.621560  0.378440        0             1\n",
       "27   0.083328  0.916672        1             0\n",
       "28   0.870998  0.129002        0             1\n",
       "29   0.848632  0.151368        0             1\n",
       "36   0.449181  0.550819        1             0\n",
       "42   0.800915  0.199085        0             1\n",
       "49   0.633123  0.366877        0             1\n",
       "50   0.499920  0.500080        1             0\n",
       "52   0.838621  0.161379        0             1\n",
       "54   0.660056  0.339944        0             1\n",
       "71   0.741114  0.258886        0             1\n",
       "72   0.122524  0.877476        1             0\n",
       "75   0.719714  0.280286        0             1\n",
       "77   0.957680  0.042320        0             1\n",
       "81   0.867627  0.132373        0             1\n",
       "82   0.729788  0.270212        0             1\n",
       "89   0.704684  0.295316        0             1\n",
       "94   0.627556  0.372444        0             1\n",
       "95   0.658169  0.341831        0             1\n",
       "99   0.911051  0.088949        0             1\n",
       "101  0.507716  0.492284        0             1\n",
       "102  0.267063  0.732937        1             0\n",
       "111  0.951015  0.048985        0             1\n",
       "113  0.738769  0.261231        0             1\n",
       "114  0.717577  0.282423        0             1\n",
       "118  0.393930  0.606070        1             0\n",
       "125  0.594652  0.405348        0             1\n",
       "142  0.728778  0.271222        0             1\n",
       "147  0.692156  0.307844        0             1\n",
       "150  0.866306  0.133694        0             1\n",
       "152  0.705226  0.294774        0             1\n",
       "153  0.694949  0.305051        0             1\n",
       "158  0.359309  0.640691        1             0\n",
       "159  0.212429  0.787571        1             0\n",
       "161  0.989999  0.010001        0             1\n",
       "164  0.779521  0.220479        0             1\n",
       "168  0.512417  0.487583        0             1\n",
       "172  0.660041  0.339959        0             1\n",
       "173  0.853740  0.146260        0             1\n",
       "183  0.297347  0.702653        1             0\n",
       "184  0.299652  0.700348        1             0\n",
       "191  0.254774  0.745226        1             0"
      ]
     },
     "execution_count": 40,
     "metadata": {},
     "output_type": "execute_result"
    }
   ],
   "source": [
    "results[results.predict!=results.actual_label] #shows everywhere were your prediction didn't match the actual_label/result"
   ]
  },
  {
   "cell_type": "code",
   "execution_count": 41,
   "metadata": {},
   "outputs": [
    {
     "data": {
      "text/plain": [
       "array([[ 5.98923493e-02,  3.74302000e-02, -1.15886805e-02,\n",
       "         1.00800553e-03, -1.63304650e-03,  9.01178431e-02,\n",
       "         1.18514022e+00,  3.24914035e-02]])"
      ]
     },
     "execution_count": 41,
     "metadata": {},
     "output_type": "execute_result"
    }
   ],
   "source": [
    "logreg.coef_ #this will find out the W's or weights of your equation model  \n",
    "\n",
    "#x is the features, w is the weights, b is the bias"
   ]
  },
  {
   "cell_type": "code",
   "execution_count": 42,
   "metadata": {},
   "outputs": [
    {
     "data": {
      "text/plain": [
       "array([-9.30670758])"
      ]
     },
     "execution_count": 42,
     "metadata": {},
     "output_type": "execute_result"
    }
   ],
   "source": [
    "logreg.intercept_ #this gives the B or bias of the equation model"
   ]
  },
  {
   "cell_type": "code",
   "execution_count": 43,
   "metadata": {},
   "outputs": [
    {
     "data": {
      "text/plain": [
       "LogisticRegression(C=1.0, class_weight=None, dual=False, fit_intercept=True,\n",
       "                   intercept_scaling=1, l1_ratio=None, max_iter=100,\n",
       "                   multi_class='auto', n_jobs=None, penalty='l2',\n",
       "                   random_state=None, solver='lbfgs', tol=0.0001, verbose=0,\n",
       "                   warm_start=False)"
      ]
     },
     "execution_count": 43,
     "metadata": {},
     "output_type": "execute_result"
    }
   ],
   "source": [
    "from sklearn.preprocessing import StandardScaler\n",
    "scaler = StandardScaler().fit(x_train)\n",
    "x_train_scaled = scaler.transform(x_train)\n",
    "model_scaled=LogisticRegression()\n",
    "model_scaled.fit(x_train_scaled, y_train)"
   ]
  },
  {
   "cell_type": "code",
   "execution_count": 44,
   "metadata": {},
   "outputs": [
    {
     "data": {
      "text/plain": [
       "0.7760416666666666"
      ]
     },
     "execution_count": 44,
     "metadata": {},
     "output_type": "execute_result"
    }
   ],
   "source": [
    "model_scaled.score(x_train_scaled, y_train)  #training accuracy didn't change that much so scaling didn't really affect accuracy, but \n",
    "\n",
    "#it did effect the coefficients, as coefficents are completely data\n"
   ]
  },
  {
   "cell_type": "code",
   "execution_count": 45,
   "metadata": {},
   "outputs": [
    {
     "data": {
      "text/plain": [
       "array([[ 0.19833745,  1.17975057, -0.21493333,  0.02298948, -0.18061092,\n",
       "         0.71652708,  0.32553756,  0.3837584 ]])"
      ]
     },
     "execution_count": 45,
     "metadata": {},
     "output_type": "execute_result"
    }
   ],
   "source": [
    "model_scaled.coef_  #these coefficients here are for the scaled data, or the Ws of the scaled data, these coeffic represent the true importance of the data"
   ]
  },
  {
   "cell_type": "code",
   "execution_count": 46,
   "metadata": {},
   "outputs": [
    {
     "data": {
      "text/plain": [
       "<BarContainer object of 8 artists>"
      ]
     },
     "execution_count": 46,
     "metadata": {},
     "output_type": "execute_result"
    },
    {
     "data": {
      "image/png": "[encoded data removed]",
      "text/plain": [
       "<Figure size 1080x720 with 1 Axes>"
      ]
     },
     "metadata": {
      "needs_background": "light"
     },
     "output_type": "display_data"
    }
   ],
   "source": [
    "import matplotlib.pyplot as plt\n",
    "%matplotlib inline\n",
    "plt.figure(figsize=(15,10))\n",
    "plt.bar(x_train.columns, model_scaled.coef_[0])\n",
    "\n",
    "#blood pressure and insulin are inversely related to your susceptibility to get diabetes\n",
    "#glucose, pregnancies, and bmi are correlated/ more susceptible to get diabetes\n",
    "\n",
    "#you must scale your data of the coefficients W, to get the true importance of each coefficient and then plot the data to see it visually"
   ]
  },
  {
   "cell_type": "markdown",
   "metadata": {},
   "source": [
    "Lecture 4 Notes 4.28.20"
   ]
  },
  {
   "cell_type": "code",
   "execution_count": 76,
   "metadata": {},
   "outputs": [
    {
     "data": {
      "text/plain": [
       "array([1, 0, 0, 1, 1, 0, 0, 0, 0, 1, 0, 0, 0, 0, 0, 1, 0, 0, 0, 0, 0, 0,\n",
       "       0, 0, 1, 0, 1, 1, 0, 0, 0, 1, 0, 1, 0, 0, 1, 0, 0, 0, 0, 0, 0, 0,\n",
       "       1, 1, 0, 0, 0, 0, 1, 0, 0, 0, 0, 0, 0, 1, 0, 0, 0, 1, 0, 0, 1, 0,\n",
       "       0, 0, 1, 0, 0, 0, 1, 0, 0, 0, 0, 0, 0, 0, 0, 0, 0, 0, 1, 0, 0, 0,\n",
       "       0, 0, 0, 0, 0, 1, 0, 0, 1, 0, 0, 0, 0, 0, 1, 0, 1, 0, 0, 0, 0, 0,\n",
       "       1, 0, 0, 0, 0, 1, 0, 0, 1, 0, 0, 0, 1, 0, 1, 0, 0, 0, 0, 0, 0, 0,\n",
       "       0, 1, 0, 0, 0, 0, 0, 0, 0, 0, 0, 1, 1, 0, 0, 0, 0, 1, 0, 1, 0, 0,\n",
       "       0, 0, 0, 0, 1, 1, 0, 0, 0, 0, 0, 0, 1, 1, 0, 0, 1, 1, 0, 0, 0, 0,\n",
       "       0, 0, 0, 0, 1, 0, 0, 1, 1, 1, 1, 0, 0, 0, 1, 1])"
      ]
     },
     "execution_count": 76,
     "metadata": {},
     "output_type": "execute_result"
    }
   ],
   "source": [
    "pred = logreg.predict(x_test)\n",
    "prob = logreg.predict_proba(x_test)\n",
    "pred"
   ]
  },
  {
   "cell_type": "code",
   "execution_count": 48,
   "metadata": {},
   "outputs": [
    {
     "data": {
      "text/plain": [
       "(array([33.,  0.,  0.,  0.,  0.,  0.,  0.,  0.,  0., 35.]),\n",
       " array([0. , 0.1, 0.2, 0.3, 0.4, 0.5, 0.6, 0.7, 0.8, 0.9, 1. ]),\n",
       " <a list of 10 Patch objects>)"
      ]
     },
     "execution_count": 48,
     "metadata": {},
     "output_type": "execute_result"
    },
    {
     "data": {
      "image/png": "[encoded data removed]",
      "text/plain": [
       "<Figure size 432x288 with 1 Axes>"
      ]
     },
     "metadata": {
      "needs_background": "light"
     },
     "output_type": "display_data"
    }
   ],
   "source": [
    "plt.hist(pred[y_test==1]) \n",
    "#histogram for my pred of points that was actually labeled as positive, \n",
    "#blue points/bars represent True positive and false negatives\n",
    "#Blue left bar represents False Negatives\n",
    "#blue right points/bar represent True Positives\n"
   ]
  },
  {
   "cell_type": "code",
   "execution_count": 49,
   "metadata": {},
   "outputs": [
    {
     "data": {
      "text/plain": [
       "(array([112.,   0.,   0.,   0.,   0.,   0.,   0.,   0.,   0.,  12.]),\n",
       " array([0. , 0.1, 0.2, 0.3, 0.4, 0.5, 0.6, 0.7, 0.8, 0.9, 1. ]),\n",
       " <a list of 10 Patch objects>)"
      ]
     },
     "execution_count": 49,
     "metadata": {},
     "output_type": "execute_result"
    },
    {
     "data": {
      "image/png": "[encoded data removed]",
      "text/plain": [
       "<Figure size 432x288 with 1 Axes>"
      ]
     },
     "metadata": {
      "needs_background": "light"
     },
     "output_type": "display_data"
    }
   ],
   "source": [
    "plt.hist(pred[y_test==0], color = 'r') \n",
    "#red bars/points represents true negatives and false positives,\n",
    "#red points represent truly negative and false positives,\n",
    "#red left bar is True Negatives\n",
    "#red right bar is False Positives\n",
    "\n",
    "#better model has bars 1 (False Neg) and 4 (False Pos) smaller and decreasing and bars 2 (True pos) and 3 (True Negb) to be higher or increasing"
   ]
  },
  {
   "cell_type": "code",
   "execution_count": 63,
   "metadata": {},
   "outputs": [
    {
     "data": {
      "text/plain": [
       "<matplotlib.collections.PathCollection at 0x105994950>"
      ]
     },
     "execution_count": 63,
     "metadata": {},
     "output_type": "execute_result"
    },
    {
     "data": {
      "image/png": "[encoded data removed]",
      "text/plain": [
       "<Figure size 720x720 with 1 Axes>"
      ]
     },
     "metadata": {
      "needs_background": "light"
     },
     "output_type": "display_data"
    }
   ],
   "source": [
    "plt.figure(figsize=(10,10))\n",
    "plt.scatter(prob[y_test==1,1],y_test[y_test==1], marker='x')\n",
    "plt.scatter(prob[y_test==0,1],y_test[y_test==0], marker='o', c='r')\n",
    "\n",
    "#x axis is from 0 to 1\n",
    "# more blue points toward the right and red points towards the left is the model that wins\n",
    "# want red points to have low probability towards 0, want blue points high probability towards 1"
   ]
  },
  {
   "cell_type": "code",
   "execution_count": 67,
   "metadata": {},
   "outputs": [
    {
     "data": {
      "text/plain": [
       "[<matplotlib.lines.Line2D at 0x1a1c85a350>]"
      ]
     },
     "execution_count": 67,
     "metadata": {},
     "output_type": "execute_result"
    },
    {
     "data": {
      "image/png": "[encoded data removed]",
      "text/plain": [
       "<Figure size 432x288 with 1 Axes>"
      ]
     },
     "metadata": {
      "needs_background": "light"
     },
     "output_type": "display_data"
    }
   ],
   "source": [
    "from sklearn import metrics\n",
    "\n",
    "threshold=np.linspace(0,0.9,100)\n",
    "precision_list=[]\n",
    "recall_list=[]\n",
    "for i in threshold:\n",
    "    my_pred=prob[:,1]>=i\n",
    "    precision_list.append(metrics.precision_score(y_test,my_pred))\n",
    "    recall_list.append(metrics.recall_score(y_test,my_pred))\n",
    "plt.plot(threshold,precision_list)\n",
    "plt.plot(threshold, recall_list, c='r')"
   ]
  },
  {
   "cell_type": "code",
   "execution_count": 68,
   "metadata": {},
   "outputs": [
    {
     "data": {
      "text/plain": [
       "[<matplotlib.lines.Line2D at 0x1a1cad8cd0>]"
      ]
     },
     "execution_count": 68,
     "metadata": {},
     "output_type": "execute_result"
    },
    {
     "data": {
      "image/png": "[encoded data removed]",
      "text/plain": [
       "<Figure size 432x288 with 1 Axes>"
      ]
     },
     "metadata": {
      "needs_background": "light"
     },
     "output_type": "display_data"
    }
   ],
   "source": [
    "# precision recall curve, the higher/more area under the curve the better\n",
    "\n",
    "plt.plot(recall_list,precision_list)"
   ]
  },
  {
   "cell_type": "code",
   "execution_count": 69,
   "metadata": {},
   "outputs": [
    {
     "data": {
      "text/plain": [
       "[<matplotlib.lines.Line2D at 0x1a1cbf5790>]"
      ]
     },
     "execution_count": 69,
     "metadata": {},
     "output_type": "execute_result"
    },
    {
     "data": {
      "image/png": "[encoded data removed]",
      "text/plain": [
       "<Figure size 432x288 with 1 Axes>"
      ]
     },
     "metadata": {
      "needs_background": "light"
     },
     "output_type": "display_data"
    },
    {
     "data": {
      "image/png": "[encoded data removed]",
      "text/plain": [
       "<Figure size 432x288 with 1 Axes>"
      ]
     },
     "metadata": {
      "needs_background": "light"
     },
     "output_type": "display_data"
    }
   ],
   "source": [
    "prec,rec,th=metrics.precision_recall_curve(y_test,prob[:,1])\n",
    "plt.plot(th,prec[:-1])\n",
    "plt.plot(th,rec[:-1])\n",
    "plt.figure()\n",
    "plt.plot(rec,prec)\n",
    "\n",
    "#as precision increases, recall decreases"
   ]
  },
  {
   "cell_type": "code",
   "execution_count": 71,
   "metadata": {},
   "outputs": [
    {
     "data": {
      "text/plain": [
       "[<matplotlib.lines.Line2D at 0x1a1cd684d0>]"
      ]
     },
     "execution_count": 71,
     "metadata": {},
     "output_type": "execute_result"
    },
    {
     "data": {
      "image/png": "[encoded data removed]",
      "text/plain": [
       "<Figure size 432x288 with 1 Axes>"
      ]
     },
     "metadata": {
      "needs_background": "light"
     },
     "output_type": "display_data"
    }
   ],
   "source": [
    "#f1 score is highest point\n",
    "#want to operate at a threshold of 0.4, for balance between prec and rec\n",
    "\n",
    "f1=2*prec*rec/(prec+rec)\n",
    "plt.plot(th,f1[:-1])"
   ]
  },
  {
   "cell_type": "code",
   "execution_count": 79,
   "metadata": {},
   "outputs": [
    {
     "data": {
      "text/plain": [
       "[<matplotlib.lines.Line2D at 0x1a1cda9dd0>]"
      ]
     },
     "execution_count": 79,
     "metadata": {},
     "output_type": "execute_result"
    },
    {
     "data": {
      "image/png": "[encoded data removed]",
      "text/plain": [
       "<Figure size 432x288 with 1 Axes>"
      ]
     },
     "metadata": {
      "needs_background": "light"
     },
     "output_type": "display_data"
    }
   ],
   "source": [
    "#better model would have higher curve\n",
    "\n",
    "fpr,tpr,thre=metrics.roc_curve(y_test, prob[:,1]) #true labels, prob\n",
    "plt.plot(fpr,tpr)"
   ]
  },
  {
   "cell_type": "code",
   "execution_count": 80,
   "metadata": {},
   "outputs": [
    {
     "data": {
      "text/plain": [
       "0.7921015180265654"
      ]
     },
     "execution_count": 80,
     "metadata": {},
     "output_type": "execute_result"
    }
   ],
   "source": [
    "metrics.auc(fpr,tpr) # want auc to be higher"
   ]
  },
  {
   "cell_type": "code",
   "execution_count": null,
   "metadata": {},
   "outputs": [],
   "source": [
    "#the highest F1 score is the point that gives you the best precision and recall, optimal is precision and recall are both medium\n",
    "#point with highest F1 score wins"
   ]
  },
  {
   "cell_type": "code",
   "execution_count": null,
   "metadata": {},
   "outputs": [],
   "source": []
  },
  {
   "cell_type": "code",
   "execution_count": null,
   "metadata": {},
   "outputs": [],
   "source": []
  }
 ],
 "metadata": {
  "kernelspec": {
   "display_name": "Python 3",
   "language": "python",
   "name": "python3"
  },
  "language_info": {
   "codemirror_mode": {
    "name": "ipython",
    "version": 3
   },
   "file_extension": ".py",
   "mimetype": "text/x-python",
   "name": "python",
   "nbconvert_exporter": "python",
   "pygments_lexer": "ipython3",
   "version": "3.7.7"
  }
 },
 "nbformat": 4,
 "nbformat_minor": 4
}
